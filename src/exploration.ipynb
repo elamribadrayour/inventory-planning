{
 "cells": [
  {
   "cell_type": "markdown",
   "metadata": {},
   "source": [
    "# Inventory planning"
   ]
  },
  {
   "cell_type": "markdown",
   "metadata": {},
   "source": [
    "This notebook is aimed to document in a nutshell the data exploration step and model choice decision."
   ]
  },
  {
   "cell_type": "markdown",
   "metadata": {},
   "source": [
    "## Data exploration"
   ]
  },
  {
   "cell_type": "code",
   "execution_count": 1,
   "metadata": {},
   "outputs": [],
   "source": [
    "import os\n",
    "import pandas\n",
    "\n",
    "cache_dir = \"../.cache/\"\n",
    "data = pandas.read_csv(filepath_or_buffer=os.path.join(cache_dir, \"datasets/type=raw/data.csv\"))\n",
    "data['DATE'] = pandas.to_datetime(data['DATE'])"
   ]
  },
  {
   "cell_type": "markdown",
   "metadata": {},
   "source": [
    "### Current level"
   ]
  },
  {
   "cell_type": "code",
   "execution_count": 2,
   "metadata": {},
   "outputs": [
    {
     "name": "stdout",
     "output_type": "stream",
     "text": [
      "True\n"
     ]
    }
   ],
   "source": [
    "sku_current_level_consistency = data.groupby('SKU')['CURRENT_LEVEL'].nunique()\n",
    "print((sku_current_level_consistency == 1).all())"
   ]
  },
  {
   "cell_type": "markdown",
   "metadata": {},
   "source": [
    "We observe that the CURRENT_LEVEL column is constant for each SKU, meaning it does not vary across different records for the same SKU.<br>\n",
    "This lack of variability indicates that CURRENT_LEVEL does not provide any additional information that could influence the forecasting model.<br>\n",
    "The CURRENT_LEVEL column has been excluded from the subsequent steps. This ensures that our focus remains on the features that have a meaningful impact on the forecasting process."
   ]
  },
  {
   "cell_type": "markdown",
   "metadata": {},
   "source": [
    "### SKU based model"
   ]
  },
  {
   "cell_type": "markdown",
   "metadata": {},
   "source": [
    "The decision to include SKU as a feature in your model depends on the context and the nature of your forecasting task. Here are some considerations:\n",
    "\n",
    "* When to Include SKU as a Feature:\n",
    "    * Multiple SKUs with Different Sales Patterns: If your dataset contains multiple SKUs with distinct sales patterns, including the SKU as a feature can help the model learn these differences. This is particularly useful for models that can handle categorical features well, such as tree-based models (e.g., Random Forests, Gradient Boosting Machines) or neural networks.\n",
    "    * SKU-Specific Forecasting: If your goal is to create a unified model that forecasts sales for multiple SKUs simultaneously, including the SKU can help the model differentiate between the products.\n",
    "\n",
    "* When to Exclude SKU as a Feature:\n",
    "    * Single SKU or Homogeneous SKUs: If the dataset pertains to a single SKU or multiple SKUs with similar sales patterns, the SKU may not add significant value and could potentially introduce noise.\n",
    "    * Separate Models for Each SKU: If you plan to build and optimize separate models for each SKU, including SKU as a feature in each individual model would be redundant."
   ]
  },
  {
   "cell_type": "code",
   "execution_count": 7,
   "metadata": {},
   "outputs": [
    {
     "name": "stdout",
     "output_type": "stream",
     "text": [
      "ANOVA result: F_onewayResult(statistic=57.2815366135137, pvalue=0.0)\n"
     ]
    }
   ],
   "source": [
    "import scipy.stats as stats\n",
    "\n",
    "anova_result = stats.f_oneway(*(data[data['SKU'] == sku]['QUANTITY_SOLD'] for sku in data['SKU'].unique()))\n",
    "print('ANOVA result:', anova_result)"
   ]
  },
  {
   "cell_type": "markdown",
   "metadata": {},
   "source": [
    "* The F-statistic is 57.28 (high) indicates substantial differences in sales quantities between different SKUs.\n",
    "* The p-value is 0.0, which is effectively zero, providing very strong evidence that the differences in sales quantities across SKUs are statistically significant and not due to random chance."
   ]
  },
  {
   "cell_type": "markdown",
   "metadata": {},
   "source": [
    "The results of the ANOVA test reveal a highly significant dependency of sales patterns on the SKU. With an F-statistic of 57.28 and a p-value of 0.0, the test strongly rejects the null hypothesis, indicating substantial differences in sales quantities across different SKUs. This suggests that the SKU is a critical feature that influences the sales behavior and should be included in the forecasting model. By incorporating the SKU, the model can better capture the unique sales patterns associated with each product, leading to more accurate and reliable forecasts."
   ]
  },
  {
   "cell_type": "markdown",
   "metadata": {},
   "source": [
    "## Model definition"
   ]
  },
  {
   "cell_type": "markdown",
   "metadata": {},
   "source": [
    "I was considering two potential approaches for the forecasting model: manually defining features or using a temporal model.<br>\n",
    "Each approach has its own set of advantages and disadvantages that are important to consider."
   ]
  },
  {
   "cell_type": "markdown",
   "metadata": {},
   "source": [
    "### Manually Defining Features"
   ]
  },
  {
   "cell_type": "markdown",
   "metadata": {},
   "source": [
    "\n",
    "#### Pros:\n",
    "\n",
    "* Flexibility: Manually generated features such as day of the week, month, quarter, and lagged variables can provide the model with rich contextual information.\n",
    "* Model Agnostic: These features can be used with a wide range of machine learning models, from linear regression to tree-based models and neural networks.\n",
    "\n",
    "#### Cons:\n",
    "\n",
    "* Manual Effort: This approach requires significant domain knowledge and effort to engineer relevant and effective features.\n",
    "* Complexity: There is a risk of missing out on capturing more complex temporal dependencies that might be better handled by specialized time series models."
   ]
  },
  {
   "cell_type": "markdown",
   "metadata": {},
   "source": [
    "###  Using a Temporal Model (e.g., AR(1))"
   ]
  },
  {
   "cell_type": "markdown",
   "metadata": {},
   "source": [
    "#### Pros:\n",
    "\n",
    "* Capturing Temporal Dependencies: Temporal models like AR(1) are specifically designed to capture temporal dependencies and can be very effective for time series forecasting.\n",
    "* Simplicity: For certain types of data, simpler autoregressive models can provide good performance without the need for extensive feature engineering.\n",
    "\n",
    "#### Cons:\n",
    "\n",
    "* Limited Flexibility: Autoregressive models might not handle complex seasonality or other patterns as effectively as more flexible models combined with manually engineered features.\n",
    "* Model Specific: These models are tailored for time series data and might not integrate as seamlessly with other predictive features or complex datasets."
   ]
  },
  {
   "cell_type": "markdown",
   "metadata": {},
   "source": [
    "I took the pragmatic approach of going for the first solution, due to the simplicity of the model and its agnosticity.<br>\n",
    "In other conditions, I would have tested both models. And depending on the output, go for on of them in production or AB test them."
   ]
  },
  {
   "cell_type": "markdown",
   "metadata": {},
   "source": [
    "### Ground truth model"
   ]
  },
  {
   "cell_type": "markdown",
   "metadata": {},
   "source": [
    "To establish a baseline performance for our forecasting model, I initially implemented a Linear Regression model that can be our ground thruth.<br>\n",
    "This model provided a reasonable starting point with:\n",
    "* R² of 0.5303\n",
    "* RMSE of 16.724."
   ]
  },
  {
   "cell_type": "markdown",
   "metadata": {},
   "source": [
    "### XGBoost model"
   ]
  },
  {
   "cell_type": "markdown",
   "metadata": {},
   "source": [
    "I decided to train an XGBoost regressor for our forecasting model due to its robustness and ability to handle complex patterns in the data. The fine-tuning comes as a solution to ensure optimal performance.\n",
    "\n",
    "#### Randomized Grid Search Approach\n",
    "\n",
    "Instead of evaluating all possible combinations like traditional grid search, Randomized Grid Search selects a random subset of hyperparameter combinations to evaluate. This approach is computationally more efficient, especially for local development. \n",
    "\n",
    "In a production environment, where more computational resources might be available and optimization is critical, a more exhaustive Grid Search could be more relevant.\n",
    "\n",
    "\n",
    "#### Choice of Hyperparameters\n",
    "\n",
    "For the XGBoost model, we selected the following hyperparameters and their respective ranges to form our grid search:\n",
    "\n",
    "- **max_depth**: [3, 5, 7, 9, 11]\n",
    "  - **Reason**: Including both shallow and deep trees, balancing model complexity and the risk of overfitting.\n",
    "- **subsample**: [0.6, 0.7, 0.8, 0.9, 1.0]\n",
    "  - **Reason**: Testing different levels of subsampling to find the optimal trade-off between bias and variance by introducing randomness.\n",
    "- **learning_rate**: [0.01, 0.05, 0.1, 0.15]\n",
    "  - **Reason**: These values cover commonly used learning rates, from conservative to moderately aggressive, ensuring robust learning.\n",
    "- **n_estimators**: [100, 200, 300, 400, 500]\n",
    "  - **Reason**: This range provides a spectrum from moderate to high numbers of trees.\n",
    "- **colsample_bytree**: [0.6, 0.7, 0.8, 0.9, 1.0]\n",
    "  - **Reason**: Different levels of feature subsampling are tested to balance feature selection and model complexity."
   ]
  },
  {
   "cell_type": "markdown",
   "metadata": {},
   "source": [
    "The Best XGBoost model from the grid search significantly improved the performance, achieving:\n",
    "* R² of 0.7682\n",
    "* RMSE of 11.749.<br>\n",
    "\n",
    "This marked improvement across all evaluation metrics—R², MAE, MSE, and RMSE—indicates that the XGBoost model is better suited for capturing the intricacies of the data.<br>"
   ]
  },
  {
   "cell_type": "markdown",
   "metadata": {},
   "source": [
    "| Metric | Linear Regression | XGBoost  |\n",
    "|--------|-------------------|----------|\n",
    "| R²     | 0.5303            | 0.7682   |\n",
    "| MAE    | 3.048             | 2.696    |\n",
    "| MSE    | 279.678           | 138.039  |\n",
    "| RMSE   | 16.724            | 11.749   |"
   ]
  }
 ],
 "metadata": {
  "kernelspec": {
   "display_name": "inventory-planning-osy1kPWt-py3.11",
   "language": "python",
   "name": "python3"
  },
  "language_info": {
   "codemirror_mode": {
    "name": "ipython",
    "version": 3
   },
   "file_extension": ".py",
   "mimetype": "text/x-python",
   "name": "python",
   "nbconvert_exporter": "python",
   "pygments_lexer": "ipython3",
   "version": "3.11.8"
  }
 },
 "nbformat": 4,
 "nbformat_minor": 2
}
